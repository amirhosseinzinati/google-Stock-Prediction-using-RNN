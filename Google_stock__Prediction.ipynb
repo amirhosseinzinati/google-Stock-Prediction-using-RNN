{
  "nbformat": 4,
  "nbformat_minor": 0,
  "metadata": {
    "colab": {
      "provenance": [],
      "authorship_tag": "ABX9TyOI3CBvvTULx7dMK1lANGEN",
      "include_colab_link": true
    },
    "kernelspec": {
      "name": "python3",
      "display_name": "Python 3"
    },
    "language_info": {
      "name": "python"
    },
    "gpuClass": "standard"
  },
  "cells": [
    {
      "cell_type": "markdown",
      "metadata": {
        "id": "view-in-github",
        "colab_type": "text"
      },
      "source": [
        "<a href=\"https://colab.research.google.com/github/amirhosseinzinati/google-Stock-Prediction-using-RNN/blob/main/Google_stock__Prediction.ipynb\" target=\"_parent\"><img src=\"https://colab.research.google.com/assets/colab-badge.svg\" alt=\"Open In Colab\"/></a>"
      ]
    },
    {
      "cell_type": "markdown",
      "source": [],
      "metadata": {
        "id": "L-t0LJuSyxTh"
      }
    },
    {
      "cell_type": "code",
      "source": [
        "!pip install mplfinance\n",
        "!pip install yfinance\n",
        "!pip install tensorflow"
      ],
      "metadata": {
        "colab": {
          "base_uri": "https://localhost:8080/"
        },
        "id": "QjVlQUVqTQwq",
        "outputId": "dbda773d-307b-4637-b0a1-e630b932c8cf"
      },
      "execution_count": 2,
      "outputs": [
        {
          "output_type": "stream",
          "name": "stdout",
          "text": [
            "Looking in indexes: https://pypi.org/simple, https://us-python.pkg.dev/colab-wheels/public/simple/\n",
            "Collecting mplfinance\n",
            "  Downloading mplfinance-0.12.9b7-py3-none-any.whl (73 kB)\n",
            "\u001b[2K     \u001b[90m━━━━━━━━━━━━━━━━━━━━━━━━━━━━━━━━━━━━━━━━\u001b[0m \u001b[32m73.1/73.1 KB\u001b[0m \u001b[31m2.4 MB/s\u001b[0m eta \u001b[36m0:00:00\u001b[0m\n",
            "\u001b[?25hRequirement already satisfied: pandas in /usr/local/lib/python3.8/dist-packages (from mplfinance) (1.3.5)\n",
            "Requirement already satisfied: matplotlib in /usr/local/lib/python3.8/dist-packages (from mplfinance) (3.2.2)\n",
            "Requirement already satisfied: python-dateutil>=2.1 in /usr/local/lib/python3.8/dist-packages (from matplotlib->mplfinance) (2.8.2)\n",
            "Requirement already satisfied: kiwisolver>=1.0.1 in /usr/local/lib/python3.8/dist-packages (from matplotlib->mplfinance) (1.4.4)\n",
            "Requirement already satisfied: pyparsing!=2.0.4,!=2.1.2,!=2.1.6,>=2.0.1 in /usr/local/lib/python3.8/dist-packages (from matplotlib->mplfinance) (3.0.9)\n",
            "Requirement already satisfied: numpy>=1.11 in /usr/local/lib/python3.8/dist-packages (from matplotlib->mplfinance) (1.21.6)\n",
            "Requirement already satisfied: cycler>=0.10 in /usr/local/lib/python3.8/dist-packages (from matplotlib->mplfinance) (0.11.0)\n",
            "Requirement already satisfied: pytz>=2017.3 in /usr/local/lib/python3.8/dist-packages (from pandas->mplfinance) (2022.7.1)\n",
            "Requirement already satisfied: six>=1.5 in /usr/local/lib/python3.8/dist-packages (from python-dateutil>=2.1->matplotlib->mplfinance) (1.15.0)\n",
            "Installing collected packages: mplfinance\n",
            "Successfully installed mplfinance-0.12.9b7\n",
            "Looking in indexes: https://pypi.org/simple, https://us-python.pkg.dev/colab-wheels/public/simple/\n",
            "Collecting yfinance\n",
            "  Downloading yfinance-0.2.10-py2.py3-none-any.whl (59 kB)\n",
            "\u001b[2K     \u001b[90m━━━━━━━━━━━━━━━━━━━━━━━━━━━━━━━━━━━━━━━━\u001b[0m \u001b[32m59.1/59.1 KB\u001b[0m \u001b[31m3.2 MB/s\u001b[0m eta \u001b[36m0:00:00\u001b[0m\n",
            "\u001b[?25hRequirement already satisfied: multitasking>=0.0.7 in /usr/local/lib/python3.8/dist-packages (from yfinance) (0.0.11)\n",
            "Collecting cryptography>=3.3.2\n",
            "  Downloading cryptography-39.0.1-cp36-abi3-manylinux_2_28_x86_64.whl (4.2 MB)\n",
            "\u001b[2K     \u001b[90m━━━━━━━━━━━━━━━━━━━━━━━━━━━━━━━━━━━━━━━━\u001b[0m \u001b[32m4.2/4.2 MB\u001b[0m \u001b[31m42.8 MB/s\u001b[0m eta \u001b[36m0:00:00\u001b[0m\n",
            "\u001b[?25hRequirement already satisfied: appdirs>=1.4.4 in /usr/local/lib/python3.8/dist-packages (from yfinance) (1.4.4)\n",
            "Collecting html5lib>=1.1\n",
            "  Downloading html5lib-1.1-py2.py3-none-any.whl (112 kB)\n",
            "\u001b[2K     \u001b[90m━━━━━━━━━━━━━━━━━━━━━━━━━━━━━━━━━━━━━━\u001b[0m \u001b[32m112.2/112.2 KB\u001b[0m \u001b[31m11.5 MB/s\u001b[0m eta \u001b[36m0:00:00\u001b[0m\n",
            "\u001b[?25hRequirement already satisfied: numpy>=1.16.5 in /usr/local/lib/python3.8/dist-packages (from yfinance) (1.21.6)\n",
            "Collecting beautifulsoup4>=4.11.1\n",
            "  Downloading beautifulsoup4-4.11.2-py3-none-any.whl (129 kB)\n",
            "\u001b[2K     \u001b[90m━━━━━━━━━━━━━━━━━━━━━━━━━━━━━━━━━━━━━━\u001b[0m \u001b[32m129.4/129.4 KB\u001b[0m \u001b[31m14.6 MB/s\u001b[0m eta \u001b[36m0:00:00\u001b[0m\n",
            "\u001b[?25hCollecting requests>=2.26\n",
            "  Downloading requests-2.28.2-py3-none-any.whl (62 kB)\n",
            "\u001b[2K     \u001b[90m━━━━━━━━━━━━━━━━━━━━━━━━━━━━━━━━━━━━━━━━\u001b[0m \u001b[32m62.8/62.8 KB\u001b[0m \u001b[31m6.9 MB/s\u001b[0m eta \u001b[36m0:00:00\u001b[0m\n",
            "\u001b[?25hRequirement already satisfied: lxml>=4.9.1 in /usr/local/lib/python3.8/dist-packages (from yfinance) (4.9.2)\n",
            "Collecting frozendict>=2.3.4\n",
            "  Downloading frozendict-2.3.4-cp38-cp38-manylinux_2_17_x86_64.manylinux2014_x86_64.whl (110 kB)\n",
            "\u001b[2K     \u001b[90m━━━━━━━━━━━━━━━━━━━━━━━━━━━━━━━━━━━━━━\u001b[0m \u001b[32m111.0/111.0 KB\u001b[0m \u001b[31m12.9 MB/s\u001b[0m eta \u001b[36m0:00:00\u001b[0m\n",
            "\u001b[?25hRequirement already satisfied: pytz>=2022.5 in /usr/local/lib/python3.8/dist-packages (from yfinance) (2022.7.1)\n",
            "Requirement already satisfied: pandas>=1.3.0 in /usr/local/lib/python3.8/dist-packages (from yfinance) (1.3.5)\n",
            "Collecting soupsieve>1.2\n",
            "  Downloading soupsieve-2.3.2.post1-py3-none-any.whl (37 kB)\n",
            "Requirement already satisfied: cffi>=1.12 in /usr/local/lib/python3.8/dist-packages (from cryptography>=3.3.2->yfinance) (1.15.1)\n",
            "Requirement already satisfied: six>=1.9 in /usr/local/lib/python3.8/dist-packages (from html5lib>=1.1->yfinance) (1.15.0)\n",
            "Requirement already satisfied: webencodings in /usr/local/lib/python3.8/dist-packages (from html5lib>=1.1->yfinance) (0.5.1)\n",
            "Requirement already satisfied: python-dateutil>=2.7.3 in /usr/local/lib/python3.8/dist-packages (from pandas>=1.3.0->yfinance) (2.8.2)\n",
            "Requirement already satisfied: idna<4,>=2.5 in /usr/local/lib/python3.8/dist-packages (from requests>=2.26->yfinance) (2.10)\n",
            "Requirement already satisfied: charset-normalizer<4,>=2 in /usr/local/lib/python3.8/dist-packages (from requests>=2.26->yfinance) (2.1.1)\n",
            "Requirement already satisfied: certifi>=2017.4.17 in /usr/local/lib/python3.8/dist-packages (from requests>=2.26->yfinance) (2022.12.7)\n",
            "Requirement already satisfied: urllib3<1.27,>=1.21.1 in /usr/local/lib/python3.8/dist-packages (from requests>=2.26->yfinance) (1.24.3)\n",
            "Requirement already satisfied: pycparser in /usr/local/lib/python3.8/dist-packages (from cffi>=1.12->cryptography>=3.3.2->yfinance) (2.21)\n",
            "Installing collected packages: soupsieve, requests, html5lib, frozendict, cryptography, beautifulsoup4, yfinance\n",
            "  Attempting uninstall: requests\n",
            "    Found existing installation: requests 2.25.1\n",
            "    Uninstalling requests-2.25.1:\n",
            "      Successfully uninstalled requests-2.25.1\n",
            "  Attempting uninstall: html5lib\n",
            "    Found existing installation: html5lib 1.0.1\n",
            "    Uninstalling html5lib-1.0.1:\n",
            "      Successfully uninstalled html5lib-1.0.1\n",
            "  Attempting uninstall: beautifulsoup4\n",
            "    Found existing installation: beautifulsoup4 4.6.3\n",
            "    Uninstalling beautifulsoup4-4.6.3:\n",
            "      Successfully uninstalled beautifulsoup4-4.6.3\n",
            "Successfully installed beautifulsoup4-4.11.2 cryptography-39.0.1 frozendict-2.3.4 html5lib-1.1 requests-2.28.2 soupsieve-2.3.2.post1 yfinance-0.2.10\n",
            "Looking in indexes: https://pypi.org/simple, https://us-python.pkg.dev/colab-wheels/public/simple/\n",
            "Requirement already satisfied: tensorflow in /usr/local/lib/python3.8/dist-packages (2.9.2)\n",
            "Requirement already satisfied: six>=1.12.0 in /usr/local/lib/python3.8/dist-packages (from tensorflow) (1.15.0)\n",
            "Requirement already satisfied: flatbuffers<2,>=1.12 in /usr/local/lib/python3.8/dist-packages (from tensorflow) (1.12)\n",
            "Requirement already satisfied: absl-py>=1.0.0 in /usr/local/lib/python3.8/dist-packages (from tensorflow) (1.4.0)\n",
            "Requirement already satisfied: numpy>=1.20 in /usr/local/lib/python3.8/dist-packages (from tensorflow) (1.21.6)\n",
            "Requirement already satisfied: termcolor>=1.1.0 in /usr/local/lib/python3.8/dist-packages (from tensorflow) (2.2.0)\n",
            "Requirement already satisfied: wrapt>=1.11.0 in /usr/local/lib/python3.8/dist-packages (from tensorflow) (1.14.1)\n",
            "Requirement already satisfied: gast<=0.4.0,>=0.2.1 in /usr/local/lib/python3.8/dist-packages (from tensorflow) (0.4.0)\n",
            "Requirement already satisfied: grpcio<2.0,>=1.24.3 in /usr/local/lib/python3.8/dist-packages (from tensorflow) (1.51.1)\n",
            "Requirement already satisfied: google-pasta>=0.1.1 in /usr/local/lib/python3.8/dist-packages (from tensorflow) (0.2.0)\n",
            "Requirement already satisfied: tensorboard<2.10,>=2.9 in /usr/local/lib/python3.8/dist-packages (from tensorflow) (2.9.1)\n",
            "Requirement already satisfied: astunparse>=1.6.0 in /usr/local/lib/python3.8/dist-packages (from tensorflow) (1.6.3)\n",
            "Requirement already satisfied: libclang>=13.0.0 in /usr/local/lib/python3.8/dist-packages (from tensorflow) (15.0.6.1)\n",
            "Requirement already satisfied: protobuf<3.20,>=3.9.2 in /usr/local/lib/python3.8/dist-packages (from tensorflow) (3.19.6)\n",
            "Requirement already satisfied: tensorflow-io-gcs-filesystem>=0.23.1 in /usr/local/lib/python3.8/dist-packages (from tensorflow) (0.30.0)\n",
            "Requirement already satisfied: keras<2.10.0,>=2.9.0rc0 in /usr/local/lib/python3.8/dist-packages (from tensorflow) (2.9.0)\n",
            "Requirement already satisfied: opt-einsum>=2.3.2 in /usr/local/lib/python3.8/dist-packages (from tensorflow) (3.3.0)\n",
            "Requirement already satisfied: setuptools in /usr/local/lib/python3.8/dist-packages (from tensorflow) (57.4.0)\n",
            "Requirement already satisfied: typing-extensions>=3.6.6 in /usr/local/lib/python3.8/dist-packages (from tensorflow) (4.4.0)\n",
            "Requirement already satisfied: h5py>=2.9.0 in /usr/local/lib/python3.8/dist-packages (from tensorflow) (3.1.0)\n",
            "Requirement already satisfied: packaging in /usr/local/lib/python3.8/dist-packages (from tensorflow) (23.0)\n",
            "Requirement already satisfied: tensorflow-estimator<2.10.0,>=2.9.0rc0 in /usr/local/lib/python3.8/dist-packages (from tensorflow) (2.9.0)\n",
            "Requirement already satisfied: keras-preprocessing>=1.1.1 in /usr/local/lib/python3.8/dist-packages (from tensorflow) (1.1.2)\n",
            "Requirement already satisfied: wheel<1.0,>=0.23.0 in /usr/local/lib/python3.8/dist-packages (from astunparse>=1.6.0->tensorflow) (0.38.4)\n",
            "Requirement already satisfied: requests<3,>=2.21.0 in /usr/local/lib/python3.8/dist-packages (from tensorboard<2.10,>=2.9->tensorflow) (2.28.2)\n",
            "Requirement already satisfied: werkzeug>=1.0.1 in /usr/local/lib/python3.8/dist-packages (from tensorboard<2.10,>=2.9->tensorflow) (1.0.1)\n",
            "Requirement already satisfied: tensorboard-data-server<0.7.0,>=0.6.0 in /usr/local/lib/python3.8/dist-packages (from tensorboard<2.10,>=2.9->tensorflow) (0.6.1)\n",
            "Requirement already satisfied: google-auth-oauthlib<0.5,>=0.4.1 in /usr/local/lib/python3.8/dist-packages (from tensorboard<2.10,>=2.9->tensorflow) (0.4.6)\n",
            "Requirement already satisfied: google-auth<3,>=1.6.3 in /usr/local/lib/python3.8/dist-packages (from tensorboard<2.10,>=2.9->tensorflow) (2.16.0)\n",
            "Requirement already satisfied: tensorboard-plugin-wit>=1.6.0 in /usr/local/lib/python3.8/dist-packages (from tensorboard<2.10,>=2.9->tensorflow) (1.8.1)\n",
            "Requirement already satisfied: markdown>=2.6.8 in /usr/local/lib/python3.8/dist-packages (from tensorboard<2.10,>=2.9->tensorflow) (3.4.1)\n",
            "Requirement already satisfied: pyasn1-modules>=0.2.1 in /usr/local/lib/python3.8/dist-packages (from google-auth<3,>=1.6.3->tensorboard<2.10,>=2.9->tensorflow) (0.2.8)\n",
            "Requirement already satisfied: rsa<5,>=3.1.4 in /usr/local/lib/python3.8/dist-packages (from google-auth<3,>=1.6.3->tensorboard<2.10,>=2.9->tensorflow) (4.9)\n",
            "Requirement already satisfied: cachetools<6.0,>=2.0.0 in /usr/local/lib/python3.8/dist-packages (from google-auth<3,>=1.6.3->tensorboard<2.10,>=2.9->tensorflow) (5.3.0)\n",
            "Requirement already satisfied: requests-oauthlib>=0.7.0 in /usr/local/lib/python3.8/dist-packages (from google-auth-oauthlib<0.5,>=0.4.1->tensorboard<2.10,>=2.9->tensorflow) (1.3.1)\n",
            "Requirement already satisfied: importlib-metadata>=4.4 in /usr/local/lib/python3.8/dist-packages (from markdown>=2.6.8->tensorboard<2.10,>=2.9->tensorflow) (6.0.0)\n",
            "Requirement already satisfied: charset-normalizer<4,>=2 in /usr/local/lib/python3.8/dist-packages (from requests<3,>=2.21.0->tensorboard<2.10,>=2.9->tensorflow) (2.1.1)\n",
            "Requirement already satisfied: certifi>=2017.4.17 in /usr/local/lib/python3.8/dist-packages (from requests<3,>=2.21.0->tensorboard<2.10,>=2.9->tensorflow) (2022.12.7)\n",
            "Requirement already satisfied: idna<4,>=2.5 in /usr/local/lib/python3.8/dist-packages (from requests<3,>=2.21.0->tensorboard<2.10,>=2.9->tensorflow) (2.10)\n",
            "Requirement already satisfied: urllib3<1.27,>=1.21.1 in /usr/local/lib/python3.8/dist-packages (from requests<3,>=2.21.0->tensorboard<2.10,>=2.9->tensorflow) (1.24.3)\n",
            "Requirement already satisfied: zipp>=0.5 in /usr/local/lib/python3.8/dist-packages (from importlib-metadata>=4.4->markdown>=2.6.8->tensorboard<2.10,>=2.9->tensorflow) (3.12.0)\n",
            "Requirement already satisfied: pyasn1<0.5.0,>=0.4.6 in /usr/local/lib/python3.8/dist-packages (from pyasn1-modules>=0.2.1->google-auth<3,>=1.6.3->tensorboard<2.10,>=2.9->tensorflow) (0.4.8)\n",
            "Requirement already satisfied: oauthlib>=3.0.0 in /usr/local/lib/python3.8/dist-packages (from requests-oauthlib>=0.7.0->google-auth-oauthlib<0.5,>=0.4.1->tensorboard<2.10,>=2.9->tensorflow) (3.2.2)\n"
          ]
        }
      ]
    },
    {
      "cell_type": "code",
      "execution_count": 3,
      "metadata": {
        "id": "qgHD3aCcoFlw"
      },
      "outputs": [],
      "source": [
        "#import packages\n",
        "import numpy as np\n",
        "import pandas as pd\n",
        "import yfinance as yf\n",
        "import tensorflow as tf\n",
        "from tensorflow.keras.models import Sequential\n",
        "from tensorflow.keras.layers import LSTM\n",
        "from tensorflow.keras.layers import Dense , Dropout\n",
        "from sklearn.preprocessing import StandardScaler \n",
        "\n",
        "# plot stocks\n",
        "import mplfinance as mpf\n",
        "import matplotlib.pyplot as plt\n",
        "import seaborn as sns\n",
        "\n",
        "\n",
        "import math\n",
        "from sklearn.preprocessing import MinMaxScaler "
      ]
    },
    {
      "cell_type": "code",
      "source": [
        "from google.colab import drive\n",
        "drive.mount(\"/content/gdrive\")"
      ],
      "metadata": {
        "colab": {
          "base_uri": "https://localhost:8080/"
        },
        "id": "JTckwKpzsIlr",
        "outputId": "540633e4-38d8-4499-95ad-378f0bb4aea5"
      },
      "execution_count": 18,
      "outputs": [
        {
          "output_type": "stream",
          "name": "stdout",
          "text": [
            "Drive already mounted at /content/gdrive; to attempt to forcibly remount, call drive.mount(\"/content/gdrive\", force_remount=True).\n"
          ]
        }
      ]
    },
    {
      "cell_type": "code",
      "source": [
        "df = pd.read_csv('/content/gdrive/My Drive/Colab Notebooks/GOOG.csv')\n",
        "df"
      ],
      "metadata": {
        "id": "QFPFfgnDrtrm",
        "colab": {
          "base_uri": "https://localhost:8080/",
          "height": 424
        },
        "outputId": "f9f39ad2-7ee0-46cc-eee3-32a4abb51a9e"
      },
      "execution_count": 19,
      "outputs": [
        {
          "output_type": "execute_result",
          "data": {
            "text/plain": [
              "     symbol                       date    close      high        low     open  \\\n",
              "0      GOOG  2016-06-14 00:00:00+00:00   718.27   722.470   713.1200   716.48   \n",
              "1      GOOG  2016-06-15 00:00:00+00:00   718.92   722.980   717.3100   719.00   \n",
              "2      GOOG  2016-06-16 00:00:00+00:00   710.36   716.650   703.2600   714.91   \n",
              "3      GOOG  2016-06-17 00:00:00+00:00   691.72   708.820   688.4515   708.65   \n",
              "4      GOOG  2016-06-20 00:00:00+00:00   693.71   702.480   693.4100   698.77   \n",
              "...     ...                        ...      ...       ...        ...      ...   \n",
              "1253   GOOG  2021-06-07 00:00:00+00:00  2466.09  2468.000  2441.0725  2451.32   \n",
              "1254   GOOG  2021-06-08 00:00:00+00:00  2482.85  2494.495  2468.2400  2479.90   \n",
              "1255   GOOG  2021-06-09 00:00:00+00:00  2491.40  2505.000  2487.3300  2499.50   \n",
              "1256   GOOG  2021-06-10 00:00:00+00:00  2521.60  2523.260  2494.0000  2494.01   \n",
              "1257   GOOG  2021-06-11 00:00:00+00:00  2513.93  2526.990  2498.2900  2524.92   \n",
              "\n",
              "       volume  adjClose   adjHigh     adjLow  adjOpen  adjVolume  divCash  \\\n",
              "0     1306065    718.27   722.470   713.1200   716.48    1306065      0.0   \n",
              "1     1214517    718.92   722.980   717.3100   719.00    1214517      0.0   \n",
              "2     1982471    710.36   716.650   703.2600   714.91    1982471      0.0   \n",
              "3     3402357    691.72   708.820   688.4515   708.65    3402357      0.0   \n",
              "4     2082538    693.71   702.480   693.4100   698.77    2082538      0.0   \n",
              "...       ...       ...       ...        ...      ...        ...      ...   \n",
              "1253  1192453   2466.09  2468.000  2441.0725  2451.32    1192453      0.0   \n",
              "1254  1253253   2482.85  2494.495  2468.2400  2479.90    1253253      0.0   \n",
              "1255  1006337   2491.40  2505.000  2487.3300  2499.50    1006337      0.0   \n",
              "1256  1561733   2521.60  2523.260  2494.0000  2494.01    1561733      0.0   \n",
              "1257  1262309   2513.93  2526.990  2498.2900  2524.92    1262309      0.0   \n",
              "\n",
              "      splitFactor  \n",
              "0             1.0  \n",
              "1             1.0  \n",
              "2             1.0  \n",
              "3             1.0  \n",
              "4             1.0  \n",
              "...           ...  \n",
              "1253          1.0  \n",
              "1254          1.0  \n",
              "1255          1.0  \n",
              "1256          1.0  \n",
              "1257          1.0  \n",
              "\n",
              "[1258 rows x 14 columns]"
            ],
            "text/html": [
              "\n",
              "  <div id=\"df-5abd194d-29af-47da-b432-eda6480d7194\">\n",
              "    <div class=\"colab-df-container\">\n",
              "      <div>\n",
              "<style scoped>\n",
              "    .dataframe tbody tr th:only-of-type {\n",
              "        vertical-align: middle;\n",
              "    }\n",
              "\n",
              "    .dataframe tbody tr th {\n",
              "        vertical-align: top;\n",
              "    }\n",
              "\n",
              "    .dataframe thead th {\n",
              "        text-align: right;\n",
              "    }\n",
              "</style>\n",
              "<table border=\"1\" class=\"dataframe\">\n",
              "  <thead>\n",
              "    <tr style=\"text-align: right;\">\n",
              "      <th></th>\n",
              "      <th>symbol</th>\n",
              "      <th>date</th>\n",
              "      <th>close</th>\n",
              "      <th>high</th>\n",
              "      <th>low</th>\n",
              "      <th>open</th>\n",
              "      <th>volume</th>\n",
              "      <th>adjClose</th>\n",
              "      <th>adjHigh</th>\n",
              "      <th>adjLow</th>\n",
              "      <th>adjOpen</th>\n",
              "      <th>adjVolume</th>\n",
              "      <th>divCash</th>\n",
              "      <th>splitFactor</th>\n",
              "    </tr>\n",
              "  </thead>\n",
              "  <tbody>\n",
              "    <tr>\n",
              "      <th>0</th>\n",
              "      <td>GOOG</td>\n",
              "      <td>2016-06-14 00:00:00+00:00</td>\n",
              "      <td>718.27</td>\n",
              "      <td>722.470</td>\n",
              "      <td>713.1200</td>\n",
              "      <td>716.48</td>\n",
              "      <td>1306065</td>\n",
              "      <td>718.27</td>\n",
              "      <td>722.470</td>\n",
              "      <td>713.1200</td>\n",
              "      <td>716.48</td>\n",
              "      <td>1306065</td>\n",
              "      <td>0.0</td>\n",
              "      <td>1.0</td>\n",
              "    </tr>\n",
              "    <tr>\n",
              "      <th>1</th>\n",
              "      <td>GOOG</td>\n",
              "      <td>2016-06-15 00:00:00+00:00</td>\n",
              "      <td>718.92</td>\n",
              "      <td>722.980</td>\n",
              "      <td>717.3100</td>\n",
              "      <td>719.00</td>\n",
              "      <td>1214517</td>\n",
              "      <td>718.92</td>\n",
              "      <td>722.980</td>\n",
              "      <td>717.3100</td>\n",
              "      <td>719.00</td>\n",
              "      <td>1214517</td>\n",
              "      <td>0.0</td>\n",
              "      <td>1.0</td>\n",
              "    </tr>\n",
              "    <tr>\n",
              "      <th>2</th>\n",
              "      <td>GOOG</td>\n",
              "      <td>2016-06-16 00:00:00+00:00</td>\n",
              "      <td>710.36</td>\n",
              "      <td>716.650</td>\n",
              "      <td>703.2600</td>\n",
              "      <td>714.91</td>\n",
              "      <td>1982471</td>\n",
              "      <td>710.36</td>\n",
              "      <td>716.650</td>\n",
              "      <td>703.2600</td>\n",
              "      <td>714.91</td>\n",
              "      <td>1982471</td>\n",
              "      <td>0.0</td>\n",
              "      <td>1.0</td>\n",
              "    </tr>\n",
              "    <tr>\n",
              "      <th>3</th>\n",
              "      <td>GOOG</td>\n",
              "      <td>2016-06-17 00:00:00+00:00</td>\n",
              "      <td>691.72</td>\n",
              "      <td>708.820</td>\n",
              "      <td>688.4515</td>\n",
              "      <td>708.65</td>\n",
              "      <td>3402357</td>\n",
              "      <td>691.72</td>\n",
              "      <td>708.820</td>\n",
              "      <td>688.4515</td>\n",
              "      <td>708.65</td>\n",
              "      <td>3402357</td>\n",
              "      <td>0.0</td>\n",
              "      <td>1.0</td>\n",
              "    </tr>\n",
              "    <tr>\n",
              "      <th>4</th>\n",
              "      <td>GOOG</td>\n",
              "      <td>2016-06-20 00:00:00+00:00</td>\n",
              "      <td>693.71</td>\n",
              "      <td>702.480</td>\n",
              "      <td>693.4100</td>\n",
              "      <td>698.77</td>\n",
              "      <td>2082538</td>\n",
              "      <td>693.71</td>\n",
              "      <td>702.480</td>\n",
              "      <td>693.4100</td>\n",
              "      <td>698.77</td>\n",
              "      <td>2082538</td>\n",
              "      <td>0.0</td>\n",
              "      <td>1.0</td>\n",
              "    </tr>\n",
              "    <tr>\n",
              "      <th>...</th>\n",
              "      <td>...</td>\n",
              "      <td>...</td>\n",
              "      <td>...</td>\n",
              "      <td>...</td>\n",
              "      <td>...</td>\n",
              "      <td>...</td>\n",
              "      <td>...</td>\n",
              "      <td>...</td>\n",
              "      <td>...</td>\n",
              "      <td>...</td>\n",
              "      <td>...</td>\n",
              "      <td>...</td>\n",
              "      <td>...</td>\n",
              "      <td>...</td>\n",
              "    </tr>\n",
              "    <tr>\n",
              "      <th>1253</th>\n",
              "      <td>GOOG</td>\n",
              "      <td>2021-06-07 00:00:00+00:00</td>\n",
              "      <td>2466.09</td>\n",
              "      <td>2468.000</td>\n",
              "      <td>2441.0725</td>\n",
              "      <td>2451.32</td>\n",
              "      <td>1192453</td>\n",
              "      <td>2466.09</td>\n",
              "      <td>2468.000</td>\n",
              "      <td>2441.0725</td>\n",
              "      <td>2451.32</td>\n",
              "      <td>1192453</td>\n",
              "      <td>0.0</td>\n",
              "      <td>1.0</td>\n",
              "    </tr>\n",
              "    <tr>\n",
              "      <th>1254</th>\n",
              "      <td>GOOG</td>\n",
              "      <td>2021-06-08 00:00:00+00:00</td>\n",
              "      <td>2482.85</td>\n",
              "      <td>2494.495</td>\n",
              "      <td>2468.2400</td>\n",
              "      <td>2479.90</td>\n",
              "      <td>1253253</td>\n",
              "      <td>2482.85</td>\n",
              "      <td>2494.495</td>\n",
              "      <td>2468.2400</td>\n",
              "      <td>2479.90</td>\n",
              "      <td>1253253</td>\n",
              "      <td>0.0</td>\n",
              "      <td>1.0</td>\n",
              "    </tr>\n",
              "    <tr>\n",
              "      <th>1255</th>\n",
              "      <td>GOOG</td>\n",
              "      <td>2021-06-09 00:00:00+00:00</td>\n",
              "      <td>2491.40</td>\n",
              "      <td>2505.000</td>\n",
              "      <td>2487.3300</td>\n",
              "      <td>2499.50</td>\n",
              "      <td>1006337</td>\n",
              "      <td>2491.40</td>\n",
              "      <td>2505.000</td>\n",
              "      <td>2487.3300</td>\n",
              "      <td>2499.50</td>\n",
              "      <td>1006337</td>\n",
              "      <td>0.0</td>\n",
              "      <td>1.0</td>\n",
              "    </tr>\n",
              "    <tr>\n",
              "      <th>1256</th>\n",
              "      <td>GOOG</td>\n",
              "      <td>2021-06-10 00:00:00+00:00</td>\n",
              "      <td>2521.60</td>\n",
              "      <td>2523.260</td>\n",
              "      <td>2494.0000</td>\n",
              "      <td>2494.01</td>\n",
              "      <td>1561733</td>\n",
              "      <td>2521.60</td>\n",
              "      <td>2523.260</td>\n",
              "      <td>2494.0000</td>\n",
              "      <td>2494.01</td>\n",
              "      <td>1561733</td>\n",
              "      <td>0.0</td>\n",
              "      <td>1.0</td>\n",
              "    </tr>\n",
              "    <tr>\n",
              "      <th>1257</th>\n",
              "      <td>GOOG</td>\n",
              "      <td>2021-06-11 00:00:00+00:00</td>\n",
              "      <td>2513.93</td>\n",
              "      <td>2526.990</td>\n",
              "      <td>2498.2900</td>\n",
              "      <td>2524.92</td>\n",
              "      <td>1262309</td>\n",
              "      <td>2513.93</td>\n",
              "      <td>2526.990</td>\n",
              "      <td>2498.2900</td>\n",
              "      <td>2524.92</td>\n",
              "      <td>1262309</td>\n",
              "      <td>0.0</td>\n",
              "      <td>1.0</td>\n",
              "    </tr>\n",
              "  </tbody>\n",
              "</table>\n",
              "<p>1258 rows × 14 columns</p>\n",
              "</div>\n",
              "      <button class=\"colab-df-convert\" onclick=\"convertToInteractive('df-5abd194d-29af-47da-b432-eda6480d7194')\"\n",
              "              title=\"Convert this dataframe to an interactive table.\"\n",
              "              style=\"display:none;\">\n",
              "        \n",
              "  <svg xmlns=\"http://www.w3.org/2000/svg\" height=\"24px\"viewBox=\"0 0 24 24\"\n",
              "       width=\"24px\">\n",
              "    <path d=\"M0 0h24v24H0V0z\" fill=\"none\"/>\n",
              "    <path d=\"M18.56 5.44l.94 2.06.94-2.06 2.06-.94-2.06-.94-.94-2.06-.94 2.06-2.06.94zm-11 1L8.5 8.5l.94-2.06 2.06-.94-2.06-.94L8.5 2.5l-.94 2.06-2.06.94zm10 10l.94 2.06.94-2.06 2.06-.94-2.06-.94-.94-2.06-.94 2.06-2.06.94z\"/><path d=\"M17.41 7.96l-1.37-1.37c-.4-.4-.92-.59-1.43-.59-.52 0-1.04.2-1.43.59L10.3 9.45l-7.72 7.72c-.78.78-.78 2.05 0 2.83L4 21.41c.39.39.9.59 1.41.59.51 0 1.02-.2 1.41-.59l7.78-7.78 2.81-2.81c.8-.78.8-2.07 0-2.86zM5.41 20L4 18.59l7.72-7.72 1.47 1.35L5.41 20z\"/>\n",
              "  </svg>\n",
              "      </button>\n",
              "      \n",
              "  <style>\n",
              "    .colab-df-container {\n",
              "      display:flex;\n",
              "      flex-wrap:wrap;\n",
              "      gap: 12px;\n",
              "    }\n",
              "\n",
              "    .colab-df-convert {\n",
              "      background-color: #E8F0FE;\n",
              "      border: none;\n",
              "      border-radius: 50%;\n",
              "      cursor: pointer;\n",
              "      display: none;\n",
              "      fill: #1967D2;\n",
              "      height: 32px;\n",
              "      padding: 0 0 0 0;\n",
              "      width: 32px;\n",
              "    }\n",
              "\n",
              "    .colab-df-convert:hover {\n",
              "      background-color: #E2EBFA;\n",
              "      box-shadow: 0px 1px 2px rgba(60, 64, 67, 0.3), 0px 1px 3px 1px rgba(60, 64, 67, 0.15);\n",
              "      fill: #174EA6;\n",
              "    }\n",
              "\n",
              "    [theme=dark] .colab-df-convert {\n",
              "      background-color: #3B4455;\n",
              "      fill: #D2E3FC;\n",
              "    }\n",
              "\n",
              "    [theme=dark] .colab-df-convert:hover {\n",
              "      background-color: #434B5C;\n",
              "      box-shadow: 0px 1px 3px 1px rgba(0, 0, 0, 0.15);\n",
              "      filter: drop-shadow(0px 1px 2px rgba(0, 0, 0, 0.3));\n",
              "      fill: #FFFFFF;\n",
              "    }\n",
              "  </style>\n",
              "\n",
              "      <script>\n",
              "        const buttonEl =\n",
              "          document.querySelector('#df-5abd194d-29af-47da-b432-eda6480d7194 button.colab-df-convert');\n",
              "        buttonEl.style.display =\n",
              "          google.colab.kernel.accessAllowed ? 'block' : 'none';\n",
              "\n",
              "        async function convertToInteractive(key) {\n",
              "          const element = document.querySelector('#df-5abd194d-29af-47da-b432-eda6480d7194');\n",
              "          const dataTable =\n",
              "            await google.colab.kernel.invokeFunction('convertToInteractive',\n",
              "                                                     [key], {});\n",
              "          if (!dataTable) return;\n",
              "\n",
              "          const docLinkHtml = 'Like what you see? Visit the ' +\n",
              "            '<a target=\"_blank\" href=https://colab.research.google.com/notebooks/data_table.ipynb>data table notebook</a>'\n",
              "            + ' to learn more about interactive tables.';\n",
              "          element.innerHTML = '';\n",
              "          dataTable['output_type'] = 'display_data';\n",
              "          await google.colab.output.renderOutput(dataTable, element);\n",
              "          const docLink = document.createElement('div');\n",
              "          docLink.innerHTML = docLinkHtml;\n",
              "          element.appendChild(docLink);\n",
              "        }\n",
              "      </script>\n",
              "    </div>\n",
              "  </div>\n",
              "  "
            ]
          },
          "metadata": {},
          "execution_count": 19
        }
      ]
    },
    {
      "cell_type": "markdown",
      "source": [
        "remove symbol column "
      ],
      "metadata": {
        "id": "q0d1RJ11v7qW"
      }
    },
    {
      "cell_type": "code",
      "source": [
        "splitFactor = df[\"splitFactor\"].value_counts()\n",
        "divCash = df[\"divCash\"].value_counts()\n",
        "print(\"divCash Count : \",divCash)\n",
        "print(\"splitFactor Count : \",splitFactor)"
      ],
      "metadata": {
        "colab": {
          "base_uri": "https://localhost:8080/"
        },
        "id": "5QtmnPXBWcud",
        "outputId": "91770bf3-eea5-4e5c-a2ee-0a588da22f26"
      },
      "execution_count": 17,
      "outputs": [
        {
          "output_type": "stream",
          "name": "stdout",
          "text": [
            "divCash Count :  0.0    1258\n",
            "Name: divCash, dtype: int64\n",
            "splitFactor Count :  1.0    1258\n",
            "Name: splitFactor, dtype: int64\n"
          ]
        }
      ]
    },
    {
      "cell_type": "code",
      "source": [
        "df = df.drop(columns=[\"symbol\",\"divCash\",\"splitFactor\"],axis=1)\n",
        "#df =df[[\"date\",\"open\",\"high\",\"low\",\"close\",\"adjClose\",\"volume\"]]\n",
        "df['date'] =pd.to_datetime(df[\"date\"]).dt.date\n",
        "df.index = pd.DatetimeIndex(df['date'])\n",
        "data = df.drop(columns=[\"date\"],axis=1)\n",
        "data"
      ],
      "metadata": {
        "id": "s4MwKwASuM3d",
        "colab": {
          "base_uri": "https://localhost:8080/",
          "height": 455
        },
        "outputId": "807b75d8-61e8-4919-a7bd-df44db04ceb7"
      },
      "execution_count": 20,
      "outputs": [
        {
          "output_type": "execute_result",
          "data": {
            "text/plain": [
              "              close      high        low     open   volume  adjClose  \\\n",
              "date                                                                   \n",
              "2016-06-14   718.27   722.470   713.1200   716.48  1306065    718.27   \n",
              "2016-06-15   718.92   722.980   717.3100   719.00  1214517    718.92   \n",
              "2016-06-16   710.36   716.650   703.2600   714.91  1982471    710.36   \n",
              "2016-06-17   691.72   708.820   688.4515   708.65  3402357    691.72   \n",
              "2016-06-20   693.71   702.480   693.4100   698.77  2082538    693.71   \n",
              "...             ...       ...        ...      ...      ...       ...   \n",
              "2021-06-07  2466.09  2468.000  2441.0725  2451.32  1192453   2466.09   \n",
              "2021-06-08  2482.85  2494.495  2468.2400  2479.90  1253253   2482.85   \n",
              "2021-06-09  2491.40  2505.000  2487.3300  2499.50  1006337   2491.40   \n",
              "2021-06-10  2521.60  2523.260  2494.0000  2494.01  1561733   2521.60   \n",
              "2021-06-11  2513.93  2526.990  2498.2900  2524.92  1262309   2513.93   \n",
              "\n",
              "             adjHigh     adjLow  adjOpen  adjVolume  \n",
              "date                                                 \n",
              "2016-06-14   722.470   713.1200   716.48    1306065  \n",
              "2016-06-15   722.980   717.3100   719.00    1214517  \n",
              "2016-06-16   716.650   703.2600   714.91    1982471  \n",
              "2016-06-17   708.820   688.4515   708.65    3402357  \n",
              "2016-06-20   702.480   693.4100   698.77    2082538  \n",
              "...              ...        ...      ...        ...  \n",
              "2021-06-07  2468.000  2441.0725  2451.32    1192453  \n",
              "2021-06-08  2494.495  2468.2400  2479.90    1253253  \n",
              "2021-06-09  2505.000  2487.3300  2499.50    1006337  \n",
              "2021-06-10  2523.260  2494.0000  2494.01    1561733  \n",
              "2021-06-11  2526.990  2498.2900  2524.92    1262309  \n",
              "\n",
              "[1258 rows x 10 columns]"
            ],
            "text/html": [
              "\n",
              "  <div id=\"df-2b85c9be-115d-4db6-8d7d-66f3260787f6\">\n",
              "    <div class=\"colab-df-container\">\n",
              "      <div>\n",
              "<style scoped>\n",
              "    .dataframe tbody tr th:only-of-type {\n",
              "        vertical-align: middle;\n",
              "    }\n",
              "\n",
              "    .dataframe tbody tr th {\n",
              "        vertical-align: top;\n",
              "    }\n",
              "\n",
              "    .dataframe thead th {\n",
              "        text-align: right;\n",
              "    }\n",
              "</style>\n",
              "<table border=\"1\" class=\"dataframe\">\n",
              "  <thead>\n",
              "    <tr style=\"text-align: right;\">\n",
              "      <th></th>\n",
              "      <th>close</th>\n",
              "      <th>high</th>\n",
              "      <th>low</th>\n",
              "      <th>open</th>\n",
              "      <th>volume</th>\n",
              "      <th>adjClose</th>\n",
              "      <th>adjHigh</th>\n",
              "      <th>adjLow</th>\n",
              "      <th>adjOpen</th>\n",
              "      <th>adjVolume</th>\n",
              "    </tr>\n",
              "    <tr>\n",
              "      <th>date</th>\n",
              "      <th></th>\n",
              "      <th></th>\n",
              "      <th></th>\n",
              "      <th></th>\n",
              "      <th></th>\n",
              "      <th></th>\n",
              "      <th></th>\n",
              "      <th></th>\n",
              "      <th></th>\n",
              "      <th></th>\n",
              "    </tr>\n",
              "  </thead>\n",
              "  <tbody>\n",
              "    <tr>\n",
              "      <th>2016-06-14</th>\n",
              "      <td>718.27</td>\n",
              "      <td>722.470</td>\n",
              "      <td>713.1200</td>\n",
              "      <td>716.48</td>\n",
              "      <td>1306065</td>\n",
              "      <td>718.27</td>\n",
              "      <td>722.470</td>\n",
              "      <td>713.1200</td>\n",
              "      <td>716.48</td>\n",
              "      <td>1306065</td>\n",
              "    </tr>\n",
              "    <tr>\n",
              "      <th>2016-06-15</th>\n",
              "      <td>718.92</td>\n",
              "      <td>722.980</td>\n",
              "      <td>717.3100</td>\n",
              "      <td>719.00</td>\n",
              "      <td>1214517</td>\n",
              "      <td>718.92</td>\n",
              "      <td>722.980</td>\n",
              "      <td>717.3100</td>\n",
              "      <td>719.00</td>\n",
              "      <td>1214517</td>\n",
              "    </tr>\n",
              "    <tr>\n",
              "      <th>2016-06-16</th>\n",
              "      <td>710.36</td>\n",
              "      <td>716.650</td>\n",
              "      <td>703.2600</td>\n",
              "      <td>714.91</td>\n",
              "      <td>1982471</td>\n",
              "      <td>710.36</td>\n",
              "      <td>716.650</td>\n",
              "      <td>703.2600</td>\n",
              "      <td>714.91</td>\n",
              "      <td>1982471</td>\n",
              "    </tr>\n",
              "    <tr>\n",
              "      <th>2016-06-17</th>\n",
              "      <td>691.72</td>\n",
              "      <td>708.820</td>\n",
              "      <td>688.4515</td>\n",
              "      <td>708.65</td>\n",
              "      <td>3402357</td>\n",
              "      <td>691.72</td>\n",
              "      <td>708.820</td>\n",
              "      <td>688.4515</td>\n",
              "      <td>708.65</td>\n",
              "      <td>3402357</td>\n",
              "    </tr>\n",
              "    <tr>\n",
              "      <th>2016-06-20</th>\n",
              "      <td>693.71</td>\n",
              "      <td>702.480</td>\n",
              "      <td>693.4100</td>\n",
              "      <td>698.77</td>\n",
              "      <td>2082538</td>\n",
              "      <td>693.71</td>\n",
              "      <td>702.480</td>\n",
              "      <td>693.4100</td>\n",
              "      <td>698.77</td>\n",
              "      <td>2082538</td>\n",
              "    </tr>\n",
              "    <tr>\n",
              "      <th>...</th>\n",
              "      <td>...</td>\n",
              "      <td>...</td>\n",
              "      <td>...</td>\n",
              "      <td>...</td>\n",
              "      <td>...</td>\n",
              "      <td>...</td>\n",
              "      <td>...</td>\n",
              "      <td>...</td>\n",
              "      <td>...</td>\n",
              "      <td>...</td>\n",
              "    </tr>\n",
              "    <tr>\n",
              "      <th>2021-06-07</th>\n",
              "      <td>2466.09</td>\n",
              "      <td>2468.000</td>\n",
              "      <td>2441.0725</td>\n",
              "      <td>2451.32</td>\n",
              "      <td>1192453</td>\n",
              "      <td>2466.09</td>\n",
              "      <td>2468.000</td>\n",
              "      <td>2441.0725</td>\n",
              "      <td>2451.32</td>\n",
              "      <td>1192453</td>\n",
              "    </tr>\n",
              "    <tr>\n",
              "      <th>2021-06-08</th>\n",
              "      <td>2482.85</td>\n",
              "      <td>2494.495</td>\n",
              "      <td>2468.2400</td>\n",
              "      <td>2479.90</td>\n",
              "      <td>1253253</td>\n",
              "      <td>2482.85</td>\n",
              "      <td>2494.495</td>\n",
              "      <td>2468.2400</td>\n",
              "      <td>2479.90</td>\n",
              "      <td>1253253</td>\n",
              "    </tr>\n",
              "    <tr>\n",
              "      <th>2021-06-09</th>\n",
              "      <td>2491.40</td>\n",
              "      <td>2505.000</td>\n",
              "      <td>2487.3300</td>\n",
              "      <td>2499.50</td>\n",
              "      <td>1006337</td>\n",
              "      <td>2491.40</td>\n",
              "      <td>2505.000</td>\n",
              "      <td>2487.3300</td>\n",
              "      <td>2499.50</td>\n",
              "      <td>1006337</td>\n",
              "    </tr>\n",
              "    <tr>\n",
              "      <th>2021-06-10</th>\n",
              "      <td>2521.60</td>\n",
              "      <td>2523.260</td>\n",
              "      <td>2494.0000</td>\n",
              "      <td>2494.01</td>\n",
              "      <td>1561733</td>\n",
              "      <td>2521.60</td>\n",
              "      <td>2523.260</td>\n",
              "      <td>2494.0000</td>\n",
              "      <td>2494.01</td>\n",
              "      <td>1561733</td>\n",
              "    </tr>\n",
              "    <tr>\n",
              "      <th>2021-06-11</th>\n",
              "      <td>2513.93</td>\n",
              "      <td>2526.990</td>\n",
              "      <td>2498.2900</td>\n",
              "      <td>2524.92</td>\n",
              "      <td>1262309</td>\n",
              "      <td>2513.93</td>\n",
              "      <td>2526.990</td>\n",
              "      <td>2498.2900</td>\n",
              "      <td>2524.92</td>\n",
              "      <td>1262309</td>\n",
              "    </tr>\n",
              "  </tbody>\n",
              "</table>\n",
              "<p>1258 rows × 10 columns</p>\n",
              "</div>\n",
              "      <button class=\"colab-df-convert\" onclick=\"convertToInteractive('df-2b85c9be-115d-4db6-8d7d-66f3260787f6')\"\n",
              "              title=\"Convert this dataframe to an interactive table.\"\n",
              "              style=\"display:none;\">\n",
              "        \n",
              "  <svg xmlns=\"http://www.w3.org/2000/svg\" height=\"24px\"viewBox=\"0 0 24 24\"\n",
              "       width=\"24px\">\n",
              "    <path d=\"M0 0h24v24H0V0z\" fill=\"none\"/>\n",
              "    <path d=\"M18.56 5.44l.94 2.06.94-2.06 2.06-.94-2.06-.94-.94-2.06-.94 2.06-2.06.94zm-11 1L8.5 8.5l.94-2.06 2.06-.94-2.06-.94L8.5 2.5l-.94 2.06-2.06.94zm10 10l.94 2.06.94-2.06 2.06-.94-2.06-.94-.94-2.06-.94 2.06-2.06.94z\"/><path d=\"M17.41 7.96l-1.37-1.37c-.4-.4-.92-.59-1.43-.59-.52 0-1.04.2-1.43.59L10.3 9.45l-7.72 7.72c-.78.78-.78 2.05 0 2.83L4 21.41c.39.39.9.59 1.41.59.51 0 1.02-.2 1.41-.59l7.78-7.78 2.81-2.81c.8-.78.8-2.07 0-2.86zM5.41 20L4 18.59l7.72-7.72 1.47 1.35L5.41 20z\"/>\n",
              "  </svg>\n",
              "      </button>\n",
              "      \n",
              "  <style>\n",
              "    .colab-df-container {\n",
              "      display:flex;\n",
              "      flex-wrap:wrap;\n",
              "      gap: 12px;\n",
              "    }\n",
              "\n",
              "    .colab-df-convert {\n",
              "      background-color: #E8F0FE;\n",
              "      border: none;\n",
              "      border-radius: 50%;\n",
              "      cursor: pointer;\n",
              "      display: none;\n",
              "      fill: #1967D2;\n",
              "      height: 32px;\n",
              "      padding: 0 0 0 0;\n",
              "      width: 32px;\n",
              "    }\n",
              "\n",
              "    .colab-df-convert:hover {\n",
              "      background-color: #E2EBFA;\n",
              "      box-shadow: 0px 1px 2px rgba(60, 64, 67, 0.3), 0px 1px 3px 1px rgba(60, 64, 67, 0.15);\n",
              "      fill: #174EA6;\n",
              "    }\n",
              "\n",
              "    [theme=dark] .colab-df-convert {\n",
              "      background-color: #3B4455;\n",
              "      fill: #D2E3FC;\n",
              "    }\n",
              "\n",
              "    [theme=dark] .colab-df-convert:hover {\n",
              "      background-color: #434B5C;\n",
              "      box-shadow: 0px 1px 3px 1px rgba(0, 0, 0, 0.15);\n",
              "      filter: drop-shadow(0px 1px 2px rgba(0, 0, 0, 0.3));\n",
              "      fill: #FFFFFF;\n",
              "    }\n",
              "  </style>\n",
              "\n",
              "      <script>\n",
              "        const buttonEl =\n",
              "          document.querySelector('#df-2b85c9be-115d-4db6-8d7d-66f3260787f6 button.colab-df-convert');\n",
              "        buttonEl.style.display =\n",
              "          google.colab.kernel.accessAllowed ? 'block' : 'none';\n",
              "\n",
              "        async function convertToInteractive(key) {\n",
              "          const element = document.querySelector('#df-2b85c9be-115d-4db6-8d7d-66f3260787f6');\n",
              "          const dataTable =\n",
              "            await google.colab.kernel.invokeFunction('convertToInteractive',\n",
              "                                                     [key], {});\n",
              "          if (!dataTable) return;\n",
              "\n",
              "          const docLinkHtml = 'Like what you see? Visit the ' +\n",
              "            '<a target=\"_blank\" href=https://colab.research.google.com/notebooks/data_table.ipynb>data table notebook</a>'\n",
              "            + ' to learn more about interactive tables.';\n",
              "          element.innerHTML = '';\n",
              "          dataTable['output_type'] = 'display_data';\n",
              "          await google.colab.output.renderOutput(dataTable, element);\n",
              "          const docLink = document.createElement('div');\n",
              "          docLink.innerHTML = docLinkHtml;\n",
              "          element.appendChild(docLink);\n",
              "        }\n",
              "      </script>\n",
              "    </div>\n",
              "  </div>\n",
              "  "
            ]
          },
          "metadata": {},
          "execution_count": 20
        }
      ]
    },
    {
      "cell_type": "code",
      "source": [
        "df.shape"
      ],
      "metadata": {
        "colab": {
          "base_uri": "https://localhost:8080/"
        },
        "id": "wROfCgiHUHA7",
        "outputId": "96ba0d7e-d815-4c66-a11d-6a2ded8f3229"
      },
      "execution_count": 21,
      "outputs": [
        {
          "output_type": "execute_result",
          "data": {
            "text/plain": [
              "(1258, 11)"
            ]
          },
          "metadata": {},
          "execution_count": 21
        }
      ]
    },
    {
      "cell_type": "code",
      "source": [
        "df.describe()"
      ],
      "metadata": {
        "colab": {
          "base_uri": "https://localhost:8080/",
          "height": 300
        },
        "id": "GLkGJ-S__qjN",
        "outputId": "cea15eee-0a0c-4399-c833-a023ed16c6d4"
      },
      "execution_count": 22,
      "outputs": [
        {
          "output_type": "execute_result",
          "data": {
            "text/plain": [
              "             close         high          low         open        volume  \\\n",
              "count  1258.000000  1258.000000  1258.000000  1258.000000  1.258000e+03   \n",
              "mean   1216.317067  1227.430934  1204.176430  1215.260779  1.601590e+06   \n",
              "std     383.333358   387.570872   378.777094   382.446995  6.960172e+05   \n",
              "min     668.260000   672.300000   663.284000   671.000000  3.467530e+05   \n",
              "25%     960.802500   968.757500   952.182500   959.005000  1.173522e+06   \n",
              "50%    1132.460000  1143.935000  1117.915000  1131.150000  1.412588e+06   \n",
              "75%    1360.595000  1374.345000  1348.557500  1361.075000  1.812156e+06   \n",
              "max    2521.600000  2526.990000  2498.290000  2524.920000  6.207027e+06   \n",
              "\n",
              "          adjClose      adjHigh       adjLow      adjOpen     adjVolume  \n",
              "count  1258.000000  1258.000000  1258.000000  1258.000000  1.258000e+03  \n",
              "mean   1216.317067  1227.430936  1204.176436  1215.260779  1.601590e+06  \n",
              "std     383.333358   387.570873   378.777099   382.446995  6.960172e+05  \n",
              "min     668.260000   672.300000   663.284000   671.000000  3.467530e+05  \n",
              "25%     960.802500   968.757500   952.182500   959.005000  1.173522e+06  \n",
              "50%    1132.460000  1143.935000  1117.915000  1131.150000  1.412588e+06  \n",
              "75%    1360.595000  1374.345000  1348.557500  1361.075000  1.812156e+06  \n",
              "max    2521.600000  2526.990000  2498.290000  2524.920000  6.207027e+06  "
            ],
            "text/html": [
              "\n",
              "  <div id=\"df-5c53ec9d-5f31-441f-bec7-0a40255e4ad5\">\n",
              "    <div class=\"colab-df-container\">\n",
              "      <div>\n",
              "<style scoped>\n",
              "    .dataframe tbody tr th:only-of-type {\n",
              "        vertical-align: middle;\n",
              "    }\n",
              "\n",
              "    .dataframe tbody tr th {\n",
              "        vertical-align: top;\n",
              "    }\n",
              "\n",
              "    .dataframe thead th {\n",
              "        text-align: right;\n",
              "    }\n",
              "</style>\n",
              "<table border=\"1\" class=\"dataframe\">\n",
              "  <thead>\n",
              "    <tr style=\"text-align: right;\">\n",
              "      <th></th>\n",
              "      <th>close</th>\n",
              "      <th>high</th>\n",
              "      <th>low</th>\n",
              "      <th>open</th>\n",
              "      <th>volume</th>\n",
              "      <th>adjClose</th>\n",
              "      <th>adjHigh</th>\n",
              "      <th>adjLow</th>\n",
              "      <th>adjOpen</th>\n",
              "      <th>adjVolume</th>\n",
              "    </tr>\n",
              "  </thead>\n",
              "  <tbody>\n",
              "    <tr>\n",
              "      <th>count</th>\n",
              "      <td>1258.000000</td>\n",
              "      <td>1258.000000</td>\n",
              "      <td>1258.000000</td>\n",
              "      <td>1258.000000</td>\n",
              "      <td>1.258000e+03</td>\n",
              "      <td>1258.000000</td>\n",
              "      <td>1258.000000</td>\n",
              "      <td>1258.000000</td>\n",
              "      <td>1258.000000</td>\n",
              "      <td>1.258000e+03</td>\n",
              "    </tr>\n",
              "    <tr>\n",
              "      <th>mean</th>\n",
              "      <td>1216.317067</td>\n",
              "      <td>1227.430934</td>\n",
              "      <td>1204.176430</td>\n",
              "      <td>1215.260779</td>\n",
              "      <td>1.601590e+06</td>\n",
              "      <td>1216.317067</td>\n",
              "      <td>1227.430936</td>\n",
              "      <td>1204.176436</td>\n",
              "      <td>1215.260779</td>\n",
              "      <td>1.601590e+06</td>\n",
              "    </tr>\n",
              "    <tr>\n",
              "      <th>std</th>\n",
              "      <td>383.333358</td>\n",
              "      <td>387.570872</td>\n",
              "      <td>378.777094</td>\n",
              "      <td>382.446995</td>\n",
              "      <td>6.960172e+05</td>\n",
              "      <td>383.333358</td>\n",
              "      <td>387.570873</td>\n",
              "      <td>378.777099</td>\n",
              "      <td>382.446995</td>\n",
              "      <td>6.960172e+05</td>\n",
              "    </tr>\n",
              "    <tr>\n",
              "      <th>min</th>\n",
              "      <td>668.260000</td>\n",
              "      <td>672.300000</td>\n",
              "      <td>663.284000</td>\n",
              "      <td>671.000000</td>\n",
              "      <td>3.467530e+05</td>\n",
              "      <td>668.260000</td>\n",
              "      <td>672.300000</td>\n",
              "      <td>663.284000</td>\n",
              "      <td>671.000000</td>\n",
              "      <td>3.467530e+05</td>\n",
              "    </tr>\n",
              "    <tr>\n",
              "      <th>25%</th>\n",
              "      <td>960.802500</td>\n",
              "      <td>968.757500</td>\n",
              "      <td>952.182500</td>\n",
              "      <td>959.005000</td>\n",
              "      <td>1.173522e+06</td>\n",
              "      <td>960.802500</td>\n",
              "      <td>968.757500</td>\n",
              "      <td>952.182500</td>\n",
              "      <td>959.005000</td>\n",
              "      <td>1.173522e+06</td>\n",
              "    </tr>\n",
              "    <tr>\n",
              "      <th>50%</th>\n",
              "      <td>1132.460000</td>\n",
              "      <td>1143.935000</td>\n",
              "      <td>1117.915000</td>\n",
              "      <td>1131.150000</td>\n",
              "      <td>1.412588e+06</td>\n",
              "      <td>1132.460000</td>\n",
              "      <td>1143.935000</td>\n",
              "      <td>1117.915000</td>\n",
              "      <td>1131.150000</td>\n",
              "      <td>1.412588e+06</td>\n",
              "    </tr>\n",
              "    <tr>\n",
              "      <th>75%</th>\n",
              "      <td>1360.595000</td>\n",
              "      <td>1374.345000</td>\n",
              "      <td>1348.557500</td>\n",
              "      <td>1361.075000</td>\n",
              "      <td>1.812156e+06</td>\n",
              "      <td>1360.595000</td>\n",
              "      <td>1374.345000</td>\n",
              "      <td>1348.557500</td>\n",
              "      <td>1361.075000</td>\n",
              "      <td>1.812156e+06</td>\n",
              "    </tr>\n",
              "    <tr>\n",
              "      <th>max</th>\n",
              "      <td>2521.600000</td>\n",
              "      <td>2526.990000</td>\n",
              "      <td>2498.290000</td>\n",
              "      <td>2524.920000</td>\n",
              "      <td>6.207027e+06</td>\n",
              "      <td>2521.600000</td>\n",
              "      <td>2526.990000</td>\n",
              "      <td>2498.290000</td>\n",
              "      <td>2524.920000</td>\n",
              "      <td>6.207027e+06</td>\n",
              "    </tr>\n",
              "  </tbody>\n",
              "</table>\n",
              "</div>\n",
              "      <button class=\"colab-df-convert\" onclick=\"convertToInteractive('df-5c53ec9d-5f31-441f-bec7-0a40255e4ad5')\"\n",
              "              title=\"Convert this dataframe to an interactive table.\"\n",
              "              style=\"display:none;\">\n",
              "        \n",
              "  <svg xmlns=\"http://www.w3.org/2000/svg\" height=\"24px\"viewBox=\"0 0 24 24\"\n",
              "       width=\"24px\">\n",
              "    <path d=\"M0 0h24v24H0V0z\" fill=\"none\"/>\n",
              "    <path d=\"M18.56 5.44l.94 2.06.94-2.06 2.06-.94-2.06-.94-.94-2.06-.94 2.06-2.06.94zm-11 1L8.5 8.5l.94-2.06 2.06-.94-2.06-.94L8.5 2.5l-.94 2.06-2.06.94zm10 10l.94 2.06.94-2.06 2.06-.94-2.06-.94-.94-2.06-.94 2.06-2.06.94z\"/><path d=\"M17.41 7.96l-1.37-1.37c-.4-.4-.92-.59-1.43-.59-.52 0-1.04.2-1.43.59L10.3 9.45l-7.72 7.72c-.78.78-.78 2.05 0 2.83L4 21.41c.39.39.9.59 1.41.59.51 0 1.02-.2 1.41-.59l7.78-7.78 2.81-2.81c.8-.78.8-2.07 0-2.86zM5.41 20L4 18.59l7.72-7.72 1.47 1.35L5.41 20z\"/>\n",
              "  </svg>\n",
              "      </button>\n",
              "      \n",
              "  <style>\n",
              "    .colab-df-container {\n",
              "      display:flex;\n",
              "      flex-wrap:wrap;\n",
              "      gap: 12px;\n",
              "    }\n",
              "\n",
              "    .colab-df-convert {\n",
              "      background-color: #E8F0FE;\n",
              "      border: none;\n",
              "      border-radius: 50%;\n",
              "      cursor: pointer;\n",
              "      display: none;\n",
              "      fill: #1967D2;\n",
              "      height: 32px;\n",
              "      padding: 0 0 0 0;\n",
              "      width: 32px;\n",
              "    }\n",
              "\n",
              "    .colab-df-convert:hover {\n",
              "      background-color: #E2EBFA;\n",
              "      box-shadow: 0px 1px 2px rgba(60, 64, 67, 0.3), 0px 1px 3px 1px rgba(60, 64, 67, 0.15);\n",
              "      fill: #174EA6;\n",
              "    }\n",
              "\n",
              "    [theme=dark] .colab-df-convert {\n",
              "      background-color: #3B4455;\n",
              "      fill: #D2E3FC;\n",
              "    }\n",
              "\n",
              "    [theme=dark] .colab-df-convert:hover {\n",
              "      background-color: #434B5C;\n",
              "      box-shadow: 0px 1px 3px 1px rgba(0, 0, 0, 0.15);\n",
              "      filter: drop-shadow(0px 1px 2px rgba(0, 0, 0, 0.3));\n",
              "      fill: #FFFFFF;\n",
              "    }\n",
              "  </style>\n",
              "\n",
              "      <script>\n",
              "        const buttonEl =\n",
              "          document.querySelector('#df-5c53ec9d-5f31-441f-bec7-0a40255e4ad5 button.colab-df-convert');\n",
              "        buttonEl.style.display =\n",
              "          google.colab.kernel.accessAllowed ? 'block' : 'none';\n",
              "\n",
              "        async function convertToInteractive(key) {\n",
              "          const element = document.querySelector('#df-5c53ec9d-5f31-441f-bec7-0a40255e4ad5');\n",
              "          const dataTable =\n",
              "            await google.colab.kernel.invokeFunction('convertToInteractive',\n",
              "                                                     [key], {});\n",
              "          if (!dataTable) return;\n",
              "\n",
              "          const docLinkHtml = 'Like what you see? Visit the ' +\n",
              "            '<a target=\"_blank\" href=https://colab.research.google.com/notebooks/data_table.ipynb>data table notebook</a>'\n",
              "            + ' to learn more about interactive tables.';\n",
              "          element.innerHTML = '';\n",
              "          dataTable['output_type'] = 'display_data';\n",
              "          await google.colab.output.renderOutput(dataTable, element);\n",
              "          const docLink = document.createElement('div');\n",
              "          docLink.innerHTML = docLinkHtml;\n",
              "          element.appendChild(docLink);\n",
              "        }\n",
              "      </script>\n",
              "    </div>\n",
              "  </div>\n",
              "  "
            ]
          },
          "metadata": {},
          "execution_count": 22
        }
      ]
    },
    {
      "cell_type": "code",
      "source": [
        "df.hist(figsize=(20,20), grid=False)"
      ],
      "metadata": {
        "colab": {
          "base_uri": "https://localhost:8080/",
          "height": 1000
        },
        "id": "u3lzACxhU6h2",
        "outputId": "41f85f03-dfcb-4963-e1c1-9692202724c5"
      },
      "execution_count": 23,
      "outputs": [
        {
          "output_type": "execute_result",
          "data": {
            "text/plain": [
              "array([[<matplotlib.axes._subplots.AxesSubplot object at 0x7f6006ab4190>,\n",
              "        <matplotlib.axes._subplots.AxesSubplot object at 0x7f600612f580>,\n",
              "        <matplotlib.axes._subplots.AxesSubplot object at 0x7f6006d3da30>],\n",
              "       [<matplotlib.axes._subplots.AxesSubplot object at 0x7f6006b60e20>,\n",
              "        <matplotlib.axes._subplots.AxesSubplot object at 0x7f6006bf4250>,\n",
              "        <matplotlib.axes._subplots.AxesSubplot object at 0x7f6006b374c0>],\n",
              "       [<matplotlib.axes._subplots.AxesSubplot object at 0x7f6006b375b0>,\n",
              "        <matplotlib.axes._subplots.AxesSubplot object at 0x7f6006bbb850>,\n",
              "        <matplotlib.axes._subplots.AxesSubplot object at 0x7f6006ccfb20>],\n",
              "       [<matplotlib.axes._subplots.AxesSubplot object at 0x7f6006c5d280>,\n",
              "        <matplotlib.axes._subplots.AxesSubplot object at 0x7f6006cc78e0>,\n",
              "        <matplotlib.axes._subplots.AxesSubplot object at 0x7f6006c0c580>]],\n",
              "      dtype=object)"
            ]
          },
          "metadata": {},
          "execution_count": 23
        },
        {
          "output_type": "display_data",
          "data": {
            "text/plain": [
              "<Figure size 1440x1440 with 12 Axes>"
            ],
            "image/png": "[encoded data removed]"
          },
          "metadata": {
            "needs_background": "light"
          }
        }
      ]
    },
    {
      "cell_type": "code",
      "source": [
        "plt.figure(figsize=(15, 8))\n",
        "plt.title('Stock Prices History')\n",
        "plt.plot(df['close'])\n",
        "plt.xlabel('Date')\n",
        "plt.ylabel('Prices ($)')"
      ],
      "metadata": {
        "colab": {
          "base_uri": "https://localhost:8080/",
          "height": 530
        },
        "id": "r7xZ__s6zavw",
        "outputId": "a8457d49-5821-40ae-f2a7-84a513ed2997"
      },
      "execution_count": 24,
      "outputs": [
        {
          "output_type": "execute_result",
          "data": {
            "text/plain": [
              "Text(0, 0.5, 'Prices ($)')"
            ]
          },
          "metadata": {},
          "execution_count": 24
        },
        {
          "output_type": "display_data",
          "data": {
            "text/plain": [
              "<Figure size 1080x576 with 1 Axes>"
            ],
            "image/png": "[encoded data removed]"
          },
          "metadata": {
            "needs_background": "light"
          }
        }
      ]
    },
    {
      "cell_type": "code",
      "source": [
        "# Create a new dataframe with only the 'Close column \n",
        "data = df.filter(['close'])\n",
        "\n",
        "n_future_days =30 # numbers Of Days for predict \n",
        "n_past_days=120   # Numbers of days that look for predict\n",
        "\n",
        "# Convert the dataframe to a numpy array\n",
        "dataset = data.values\n",
        "# Get the number of rows to train the model on\n",
        "\n",
        "#training_data_len = int(np.ceil( len(dataset) * .95 )) ## Base on persent\n",
        "\n",
        "training_data_len = int(np.ceil( len(dataset) - n_future_days)) ## Base on persent\n",
        "\n",
        "print(\"Training Data length is : \",training_data_len)"
      ],
      "metadata": {
        "colab": {
          "base_uri": "https://localhost:8080/"
        },
        "id": "ZJvmXw993J_4",
        "outputId": "d38a5688-c875-499a-e2af-a466148b9ad0"
      },
      "execution_count": 77,
      "outputs": [
        {
          "output_type": "stream",
          "name": "stdout",
          "text": [
            "Training Data length is :  1228\n"
          ]
        }
      ]
    },
    {
      "cell_type": "code",
      "source": [
        "# Scale the data\n",
        "\n",
        "scaler = MinMaxScaler(feature_range=(0,1))\n",
        "scaled_data = scaler.fit_transform(dataset)\n",
        "\n",
        "len(scaled_data)\n"
      ],
      "metadata": {
        "colab": {
          "base_uri": "https://localhost:8080/"
        },
        "id": "pj3OKAOe3HNz",
        "outputId": "796031e7-c8f5-49d6-9bfc-0c05cabee2c7"
      },
      "execution_count": 78,
      "outputs": [
        {
          "output_type": "execute_result",
          "data": {
            "text/plain": [
              "1258"
            ]
          },
          "metadata": {},
          "execution_count": 78
        }
      ]
    },
    {
      "cell_type": "code",
      "source": [
        "#Create the training data set \n",
        "# Create the scaled training data set\n",
        "train_data = scaled_data[0: training_data_len , :]\n",
        "# Split the data into x_train and y_train data sets\n",
        "x_train = []\n",
        "y_train = []\n",
        "\n",
        "for i in range(n_past_days, len(train_data)):\n",
        "  x_train.append(train_data[i-n_past_days:i, 0])\n",
        "  y_train.append(train_data[i, 0])\n",
        "  if i<= n_past_days:\n",
        "    print(x_train)\n",
        "    print(y_train)\n",
        "    print()"
      ],
      "metadata": {
        "colab": {
          "base_uri": "https://localhost:8080/"
        },
        "id": "0uFXWAedZJvc",
        "outputId": "a88b7c6b-ca71-4633-8243-e06b92caeb46"
      },
      "execution_count": 79,
      "outputs": [
        {
          "output_type": "stream",
          "name": "stdout",
          "text": [
            "[array([0.02698372, 0.02733443, 0.02271575, 0.01265823, 0.01373196,\n",
            "       0.0149352 , 0.01575534, 0.01813483, 0.00375538, 0.        ,\n",
            "       0.00635609, 0.00855213, 0.01286326, 0.01669958, 0.01415283,\n",
            "       0.0159226 , 0.01462225, 0.0201636 , 0.02526789, 0.02826249,\n",
            "       0.02628768, 0.02842975, 0.02783623, 0.03535239, 0.03706821,\n",
            "       0.03935058, 0.03796929, 0.04018691, 0.03858439, 0.03785598,\n",
            "       0.03966353, 0.04189733, 0.05424261, 0.05644944, 0.05547282,\n",
            "       0.05661131, 0.05576419, 0.06148899, 0.06124079, 0.0625897 ,\n",
            "       0.06281632, 0.06290805, 0.06202855, 0.06160769, 0.05874799,\n",
            "       0.06024259, 0.05894223, 0.05781994, 0.05605555, 0.05601778,\n",
            "       0.05470124, 0.05457714, 0.05464729, 0.05605555, 0.05440448,\n",
            "       0.05330377, 0.05423721, 0.05568325, 0.06033432, 0.06048   ,\n",
            "       0.05776598, 0.04931637, 0.05436671, 0.04933256, 0.05084334,\n",
            "       0.05584512, 0.05429117, 0.05257535, 0.05565627, 0.05825159,\n",
            "       0.06418142, 0.06401416, 0.05716706, 0.06191524, 0.06113287,\n",
            "       0.05759871, 0.05882893, 0.05627678, 0.0583649 , 0.05838648,\n",
            "       0.05859691, 0.05763648, 0.06349617, 0.06194762, 0.06360409,\n",
            "       0.05931453, 0.05949799, 0.06026957, 0.06852493, 0.0719242 ,\n",
            "       0.06944759, 0.07074255, 0.07815619, 0.07522095, 0.07058068,\n",
            "       0.06857349, 0.06858429, 0.06274078, 0.06223898, 0.05419405,\n",
            "       0.0506491 , 0.05058975, 0.06165086, 0.06596199, 0.06315625,\n",
            "       0.05088111, 0.04627321, 0.03659339, 0.04868508, 0.05191708,\n",
            "       0.05555915, 0.04979119, 0.05446383, 0.05396204, 0.05003399,\n",
            "       0.05040629, 0.05394585, 0.05534872, 0.04844227, 0.04298186])]\n",
            "[0.04437394110093129]\n",
            "\n"
          ]
        }
      ]
    },
    {
      "cell_type": "code",
      "source": [
        "# Convert the X_train and y_train dataset to numpy arrays\n",
        "x_train , y_train = np.array(x_train), np.array(y_train)"
      ],
      "metadata": {
        "id": "4RcFHnKSUkJj"
      },
      "execution_count": 81,
      "outputs": []
    },
    {
      "cell_type": "code",
      "source": [
        "# reshape the data\n",
        "print(x_train.shape)\n",
        "x_train =np.reshape(x_train,(x_train.shape[0],x_train.shape[1],1))\n",
        "print(x_train.shape)"
      ],
      "metadata": {
        "colab": {
          "base_uri": "https://localhost:8080/"
        },
        "id": "VZNWYtviUomj",
        "outputId": "6fbae0f1-24e1-4054-ab36-3c0a5b3dff02"
      },
      "execution_count": 82,
      "outputs": [
        {
          "output_type": "stream",
          "name": "stdout",
          "text": [
            "(1108, 120)\n",
            "(1108, 120, 1)\n"
          ]
        }
      ]
    },
    {
      "cell_type": "code",
      "source": [
        "model = Sequential()\n",
        "model.add(LSTM(128,activation='relu',input_shape=(x_train.shape[1],x_train.shape[2]),return_sequences=True))\n",
        "model.add(Dropout(0.2))\n",
        "\n",
        "model.add(LSTM(128,activation='relu',return_sequences=False))\n",
        "model.add(Dropout(0.2))\n",
        "\n",
        "model.add(Dense(64))\n",
        "\n",
        "model.add(Dense(1))\n",
        "\n",
        "model.compile(optimizer=\"adam\",loss=\"mse\")\n",
        "model.summary()"
      ],
      "metadata": {
        "colab": {
          "base_uri": "https://localhost:8080/"
        },
        "id": "PdmNhUQS3HHh",
        "outputId": "2cc67bc4-804c-4c6f-8b88-355cdf83f769"
      },
      "execution_count": 83,
      "outputs": [
        {
          "output_type": "stream",
          "name": "stdout",
          "text": [
            "Model: \"sequential_3\"\n",
            "_________________________________________________________________\n",
            " Layer (type)                Output Shape              Param #   \n",
            "=================================================================\n",
            " lstm_6 (LSTM)               (None, 120, 128)          66560     \n",
            "                                                                 \n",
            " dropout_6 (Dropout)         (None, 120, 128)          0         \n",
            "                                                                 \n",
            " lstm_7 (LSTM)               (None, 128)               131584    \n",
            "                                                                 \n",
            " dropout_7 (Dropout)         (None, 128)               0         \n",
            "                                                                 \n",
            " dense_6 (Dense)             (None, 64)                8256      \n",
            "                                                                 \n",
            " dense_7 (Dense)             (None, 1)                 65        \n",
            "                                                                 \n",
            "=================================================================\n",
            "Total params: 206,465\n",
            "Trainable params: 206,465\n",
            "Non-trainable params: 0\n",
            "_________________________________________________________________\n"
          ]
        }
      ]
    },
    {
      "cell_type": "code",
      "source": [
        "history = model.fit(x_train,y_train,epochs=30,batch_size=32,validation_split=0.1,verbose=1)"
      ],
      "metadata": {
        "colab": {
          "base_uri": "https://localhost:8080/"
        },
        "id": "iIigaWvB4Dpl",
        "outputId": "04e7c7c9-44df-412f-bc73-ac81163a2292"
      },
      "execution_count": 84,
      "outputs": [
        {
          "output_type": "stream",
          "name": "stdout",
          "text": [
            "Epoch 1/30\n",
            "32/32 [==============================] - 19s 462ms/step - loss: 0.0147 - val_loss: 0.0110\n",
            "Epoch 2/30\n",
            "32/32 [==============================] - 19s 611ms/step - loss: 0.0014 - val_loss: 0.0027\n",
            "Epoch 3/30\n",
            "32/32 [==============================] - 19s 580ms/step - loss: 9.7430e-04 - val_loss: 0.0015\n",
            "Epoch 4/30\n",
            "32/32 [==============================] - 13s 423ms/step - loss: 0.0010 - val_loss: 0.0021\n",
            "Epoch 5/30\n",
            "32/32 [==============================] - 13s 423ms/step - loss: 8.6308e-04 - val_loss: 0.0035\n",
            "Epoch 6/30\n",
            "32/32 [==============================] - 15s 487ms/step - loss: 9.1490e-04 - val_loss: 0.0011\n",
            "Epoch 7/30\n",
            "32/32 [==============================] - 13s 423ms/step - loss: 7.9249e-04 - val_loss: 0.0015\n",
            "Epoch 8/30\n",
            "32/32 [==============================] - 13s 422ms/step - loss: 8.0161e-04 - val_loss: 0.0019\n",
            "Epoch 9/30\n",
            "32/32 [==============================] - 13s 411ms/step - loss: 7.8313e-04 - val_loss: 0.0044\n",
            "Epoch 10/30\n",
            "32/32 [==============================] - 16s 490ms/step - loss: 7.6704e-04 - val_loss: 0.0010\n",
            "Epoch 11/30\n",
            "32/32 [==============================] - 13s 414ms/step - loss: 6.4713e-04 - val_loss: 9.8692e-04\n",
            "Epoch 12/30\n",
            "32/32 [==============================] - 13s 390ms/step - loss: 6.6279e-04 - val_loss: 9.6284e-04\n",
            "Epoch 13/30\n",
            "32/32 [==============================] - 13s 394ms/step - loss: 6.2794e-04 - val_loss: 0.0052\n",
            "Epoch 14/30\n",
            "32/32 [==============================] - 17s 517ms/step - loss: 7.0110e-04 - val_loss: 9.5111e-04\n",
            "Epoch 15/30\n",
            "32/32 [==============================] - 13s 393ms/step - loss: 5.1139e-04 - val_loss: 9.1910e-04\n",
            "Epoch 16/30\n",
            "32/32 [==============================] - 13s 399ms/step - loss: 6.3388e-04 - val_loss: 9.1517e-04\n",
            "Epoch 17/30\n",
            "32/32 [==============================] - 14s 424ms/step - loss: 6.5389e-04 - val_loss: 0.0010\n",
            "Epoch 18/30\n",
            "32/32 [==============================] - 16s 503ms/step - loss: 5.6167e-04 - val_loss: 0.0014\n",
            "Epoch 19/30\n",
            "32/32 [==============================] - 13s 404ms/step - loss: 5.4426e-04 - val_loss: 0.0013\n",
            "Epoch 20/30\n",
            "32/32 [==============================] - 16s 506ms/step - loss: 5.4762e-04 - val_loss: 9.1205e-04\n",
            "Epoch 21/30\n",
            "32/32 [==============================] - 13s 402ms/step - loss: 6.0202e-04 - val_loss: 0.0023\n",
            "Epoch 22/30\n",
            "32/32 [==============================] - 16s 491ms/step - loss: 6.3635e-04 - val_loss: 9.6261e-04\n",
            "Epoch 23/30\n",
            "32/32 [==============================] - 13s 424ms/step - loss: 5.8459e-04 - val_loss: 8.9952e-04\n",
            "Epoch 24/30\n",
            "32/32 [==============================] - 14s 428ms/step - loss: 5.1956e-04 - val_loss: 0.0016\n",
            "Epoch 25/30\n",
            "32/32 [==============================] - 13s 424ms/step - loss: 5.6122e-04 - val_loss: 9.2986e-04\n",
            "Epoch 26/30\n",
            "32/32 [==============================] - 16s 496ms/step - loss: 5.4090e-04 - val_loss: 9.2732e-04\n",
            "Epoch 27/30\n",
            "32/32 [==============================] - 14s 424ms/step - loss: 4.7801e-04 - val_loss: 7.6595e-04\n",
            "Epoch 28/30\n",
            "32/32 [==============================] - 13s 424ms/step - loss: 4.8268e-04 - val_loss: 9.4598e-04\n",
            "Epoch 29/30\n",
            "32/32 [==============================] - 14s 425ms/step - loss: 4.7410e-04 - val_loss: 8.9600e-04\n",
            "Epoch 30/30\n",
            "32/32 [==============================] - 16s 495ms/step - loss: 4.9035e-04 - val_loss: 7.7703e-04\n"
          ]
        }
      ]
    },
    {
      "cell_type": "code",
      "source": [
        "plt.plot(history.history['loss'],label='trainnin loss')\n",
        "plt.plot(history.history['val_loss'],label='validation loss')\n",
        "plt.legend()"
      ],
      "metadata": {
        "colab": {
          "base_uri": "https://localhost:8080/",
          "height": 282
        },
        "id": "GG3o1z9PWEYH",
        "outputId": "65322088-842c-40bb-a7a5-f0e6d11219a8"
      },
      "execution_count": 85,
      "outputs": [
        {
          "output_type": "execute_result",
          "data": {
            "text/plain": [
              "<matplotlib.legend.Legend at 0x7f60063ad1c0>"
            ]
          },
          "metadata": {},
          "execution_count": 85
        },
        {
          "output_type": "display_data",
          "data": {
            "text/plain": [
              "<Figure size 432x288 with 1 Axes>"
            ],
            "image/png": "[encoded data removed]"
          },
          "metadata": {
            "needs_background": "light"
          }
        }
      ]
    },
    {
      "cell_type": "code",
      "source": [
        "## create the testing data set\n",
        "## create a new array contaning scaled values from index 947 to 1006\n",
        "test_data = scaled_data[training_data_len - n_past_days : ,:]\n",
        "\n",
        "#create dataset x_test and y_test \n",
        "x_test = []\n",
        "y_test = dataset[training_data_len :, :]\n",
        "\n",
        "for i in range (n_past_days, len(test_data)):\n",
        "  x_test.append(test_data[i-n_past_days:i,0])"
      ],
      "metadata": {
        "id": "dzQvYzJf4DnF"
      },
      "execution_count": 93,
      "outputs": []
    },
    {
      "cell_type": "code",
      "source": [
        "# Convert data to numpy array \n",
        "x_test = np.array(x_test)"
      ],
      "metadata": {
        "id": "VA-OMcNP4DiV"
      },
      "execution_count": 87,
      "outputs": []
    },
    {
      "cell_type": "code",
      "source": [
        "# reshape the data\n",
        "# reshape the data\n",
        "print(x_test.shape)\n",
        "x_test =np.reshape(x_test,(x_test.shape[0],x_test.shape[1],1))\n",
        "print(x_test.shape)"
      ],
      "metadata": {
        "colab": {
          "base_uri": "https://localhost:8080/"
        },
        "id": "FQvGFKKXVUBr",
        "outputId": "fde69bd3-9ff7-49ed-e984-5c331cfb84ad"
      },
      "execution_count": 88,
      "outputs": [
        {
          "output_type": "stream",
          "name": "stdout",
          "text": [
            "(30, 120)\n",
            "(30, 120, 1)\n"
          ]
        }
      ]
    },
    {
      "cell_type": "code",
      "source": [
        "# Get the model Predicted price Values\n",
        "predictions = model.predict(x_test)\n",
        "predictions = scaler.inverse_transform(predictions)"
      ],
      "metadata": {
        "colab": {
          "base_uri": "https://localhost:8080/"
        },
        "id": "pr_ZdwNKVJo3",
        "outputId": "328163a6-375f-4557-c857-d0b41b65c216"
      },
      "execution_count": 89,
      "outputs": [
        {
          "output_type": "stream",
          "name": "stdout",
          "text": [
            "1/1 [==============================] - 1s 623ms/step\n"
          ]
        }
      ]
    },
    {
      "cell_type": "code",
      "source": [
        "# Get root squared Error (RMSE)  Lower Value is better\n",
        "rmse = np.sqrt(np.mean(predictions - y_test) **2 )\n",
        "rmse"
      ],
      "metadata": {
        "id": "BxB1RRd-VJjB",
        "colab": {
          "base_uri": "https://localhost:8080/"
        },
        "outputId": "1796c639-521c-4094-e0c1-ac31db11f46c"
      },
      "execution_count": 90,
      "outputs": [
        {
          "output_type": "execute_result",
          "data": {
            "text/plain": [
              "30.887682617187497"
            ]
          },
          "metadata": {},
          "execution_count": 90
        }
      ]
    },
    {
      "cell_type": "code",
      "source": [
        "# plot the Data\n",
        "train = data[:training_data_len]\n",
        "valid = data[training_data_len :]\n",
        "valid['Predictions'] = predictions\n",
        "\n",
        "# Visualize data\n",
        "plt.figure(figsize=(15, 8))\n",
        "plt.title('Model')\n",
        "plt.xlabel(\"Date\",fontsize=18)\n",
        "plt.ylabel(\"Close Price\",fontsize=18)\n",
        "plt.plot(train['close'])\n",
        "plt.plot(valid[['close','Predictions']])\n",
        "plt.legend(['train','val','Predictions'],loc='lower right')\n",
        "plt.show()"
      ],
      "metadata": {
        "id": "fWLakN3hVJdL",
        "colab": {
          "base_uri": "https://localhost:8080/",
          "height": 625
        },
        "outputId": "d13c24d9-fa46-45df-ac02-9e918e3c4267"
      },
      "execution_count": 91,
      "outputs": [
        {
          "output_type": "stream",
          "name": "stderr",
          "text": [
            "<ipython-input-91-840f5342af25>:4: SettingWithCopyWarning: \n",
            "A value is trying to be set on a copy of a slice from a DataFrame.\n",
            "Try using .loc[row_indexer,col_indexer] = value instead\n",
            "\n",
            "See the caveats in the documentation: https://pandas.pydata.org/pandas-docs/stable/user_guide/indexing.html#returning-a-view-versus-a-copy\n",
            "  valid['Predictions'] = predictions\n"
          ]
        },
        {
          "output_type": "display_data",
          "data": {
            "text/plain": [
              "<Figure size 1080x576 with 1 Axes>"
            ],
            "image/png": "[encoded data removed]"
          },
          "metadata": {
            "needs_background": "light"
          }
        }
      ]
    }
  ]
}